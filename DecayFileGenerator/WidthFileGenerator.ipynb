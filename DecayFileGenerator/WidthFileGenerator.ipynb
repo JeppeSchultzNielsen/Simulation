{
 "cells": [
  {
   "cell_type": "code",
   "execution_count": 133,
   "metadata": {},
   "outputs": [],
   "source": [
    "import numpy as np\n",
    "import matplotlib.pyplot as plt\n",
    "from scipy.optimize import curve_fit\n",
    "import math as math\n",
    "from scipy.optimize import minimize\n",
    "import scipy.stats as ss\n",
    "from scipy.signal import find_peaks \n",
    "from matplotlib import rc\n",
    "from scipy.optimize import fsolve\n",
    "\n",
    "SMALL_SIZE = 12\n",
    "MEDIUM_SIZE = 14\n",
    "BIGGER_SIZE = 20"
   ]
  },
  {
   "cell_type": "code",
   "execution_count": 134,
   "id": "e126dea5",
   "metadata": {},
   "outputs": [],
   "source": [
    "#print a decay file\n",
    "#choose file to print\n",
    "z = 4\n",
    "a = 9\n",
    "f = open(\"/home/jeppe/devel/resources/geant4/geant4-v11.0.2-install/share/Geant4-11.0.2/data/RadioactiveDecay5.6/z\"+str(z)+\".a\"+str(a))\n",
    "hasNext = True\n",
    "while(hasNext):\n",
    "    hasNext = f.readline()\n",
    "    #print(hasNext)"
   ]
  },
  {
   "cell_type": "code",
   "execution_count": 143,
   "id": "9c4ddd20",
   "metadata": {},
   "outputs": [],
   "source": [
    "#choose file and energy to create width of\n",
    "z = 4\n",
    "a = 8\n",
    "ex = 3030"
   ]
  },
  {
   "cell_type": "code",
   "execution_count": 144,
   "id": "b8f393fa",
   "metadata": {},
   "outputs": [],
   "source": [
    "#create file if it does not exist \n",
    "f = open(\"WidthFiles/z\"+str(z)+\"WIDTH.a\"+str(a),\"a\")\n",
    "f.close()\n",
    "f = open(\"WidthFiles/z\"+str(z)+\"WIDTH.a\"+str(a),\"r\")\n",
    "\n",
    "#if level already exists, delete these lines. \n",
    "line1 = 1000000\n",
    "line2 = 1000000\n",
    "line1found = False\n",
    "\n",
    "moveOn = True\n",
    "lineCount = 0\n",
    "while(moveOn):\n",
    "    moveOn = f.readline()\n",
    "    if(moveOn[:12] == 'NOMINALLEVEL'):\n",
    "        if(line1found):\n",
    "            moveOn = False\n",
    "            line2 = lineCount\n",
    "        else:\n",
    "            if((int(moveOn[12:]) == ex)):\n",
    "                line1 = lineCount\n",
    "                line1found = True\n",
    "    lineCount += 1\n",
    "f.close()\n",
    "\n",
    "f = open(\"WidthFiles/z\"+str(z)+\"WIDTH.a\"+str(a),\"r+\")\n",
    "d = f.readlines()\n",
    "f.seek(0)\n",
    "for i in range(len(d)):\n",
    "    if(i >= line1 and i < line2):\n",
    "        continue\n",
    "    f.write(d[i])\n",
    "f.truncate()\n",
    "f.close()"
   ]
  },
  {
   "cell_type": "code",
   "execution_count": 145,
   "id": "f8e30317",
   "metadata": {},
   "outputs": [
    {
     "data": {
      "image/png": "[encoded data removed]",
      "text/plain": [
       "<Figure size 432x288 with 1 Axes>"
      ]
     },
     "metadata": {
      "needs_background": "light"
     },
     "output_type": "display_data"
    }
   ],
   "source": [
    "#generate an array of whatever lineshape is desired\n",
    "import scipy.stats as stats\n",
    "import math\n",
    "\n",
    "mu = ex\n",
    "sigma = 150\n",
    "\n",
    "energies = np.linspace(mu - 3*sigma, mu + 3*sigma, 1000)\n",
    "BRs = stats.norm.pdf(energies, mu, sigma)\n",
    "plt.plot(energies, BRs)\n",
    "plt.show()"
   ]
  },
  {
   "cell_type": "code",
   "execution_count": 146,
   "id": "4f90a284",
   "metadata": {},
   "outputs": [],
   "source": [
    "#probability distribution is not necessarily normalized; this is required:\n",
    "BRs = BRs/sum(BRs)"
   ]
  },
  {
   "cell_type": "code",
   "execution_count": 147,
   "id": "d3afc71e",
   "metadata": {},
   "outputs": [],
   "source": [
    "#write the level to the file. Cast energy to int to ensure readability.\n",
    "f = open(\"WidthFiles/z\"+str(z)+\"WIDTH.a\"+str(a),\"a\")\n",
    "f.write(\"NOMINALLEVEL \"+str(ex)+\"\\n\")\n",
    "for i in range(len(BRs)):\n",
    "    f.write(\"\\t\"+str(int(energies[i])) + \"\\t\" + str(BRs[i]) + \"\\n\")"
   ]
  },
  {
   "cell_type": "code",
   "execution_count": null,
   "id": "4cbe7c2c",
   "metadata": {},
   "outputs": [],
   "source": []
  }
 ],
 "metadata": {
  "interpreter": {
   "hash": "ebe641aa0fb1f78764f53d74e1a76e5f634ae5f547fed239944158a24155320f"
  },
  "kernelspec": {
   "display_name": "Python 3.9.7 ('base')",
   "language": "python",
   "name": "python3"
  },
  "language_info": {
   "codemirror_mode": {
    "name": "ipython",
    "version": 3
   },
   "file_extension": ".py",
   "mimetype": "text/x-python",
   "name": "python",
   "nbconvert_exporter": "python",
   "pygments_lexer": "ipython3",
   "version": "3.8.10"
  }
 },
 "nbformat": 4,
 "nbformat_minor": 5
}
